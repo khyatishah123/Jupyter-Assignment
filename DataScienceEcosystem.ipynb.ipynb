{
 "cells": [
  {
   "cell_type": "markdown",
   "id": "b45bd4f9-a1a5-4dae-86fe-61293ad940e3",
   "metadata": {},
   "source": [
    "# Data Science Tools and Ecosystem"
   ]
  },
  {
   "cell_type": "markdown",
   "id": "b7036494-5ce4-4a9a-bc63-40f82cdbd308",
   "metadata": {},
   "source": [
    "# Introduction\n",
    "\n",
    "In this notebook, Data Science Tools and Ecosystem are summarized.\n"
   ]
  },
  {
   "cell_type": "markdown",
   "id": "ebe8e081-097e-48f3-b1c3-4ae8c87cff44",
   "metadata": {},
   "source": [
    "**Objectives:**\n",
    "\n",
    "- Understand the **Data Science Tools and Ecosystem**.\n",
    "- List popular languages for Data Science, such as **Python**, **R**, and **SQL**.\n",
    "- Identify commonly used libraries like **Pandas**, **NumPy**, and **SciPy**.\n",
    "- Explore development environments and tools, including **Jupyter Notebook** and **RStudio**.\n",
    "- Learn to evaluate arithmetic expressions and convert units, such as minutes to hours, using Python.\n"
   ]
  },
  {
   "cell_type": "markdown",
   "id": "777b137b-1d96-4ec0-9f9d-6ce6a788ff55",
   "metadata": {},
   "source": [
    "Some of the popular languages that Data Scientists use are:\n",
    "\n",
    "1. **Python**\n",
    "2. **R**\n",
    "3. **SQL**\n",
    "4. **Julia**"
   ]
  },
  {
   "cell_type": "markdown",
   "id": "f5a6617a-c2cf-4631-9368-62ba78f63ff4",
   "metadata": {},
   "source": [
    "Some of the commonly used libraries used by Data Scientists include:\n",
    "\n",
    "1. **Pandas**\n",
    "2. **NumPy**\n",
    "3. **SciPy**\n",
    "4. **TensorFlow**"
   ]
  },
  {
   "cell_type": "markdown",
   "id": "faf7e4ce-25ab-4893-a535-d225a528aaac",
   "metadata": {
    "tags": []
   },
   "source": [
    "| Data Science Tools |\n",
    "|--------------------|\n",
    "| Jupyter Notebook   |\n",
    "| RStudio            |\n",
    "| Apache Zeppelin    |\n"
   ]
  },
  {
   "cell_type": "markdown",
   "id": "1817740e-0e3b-4869-9d6b-b4a94b4a84c2",
   "metadata": {},
   "source": [
    "### Below are a few examples of evaluating arithmetic expressions in Python\n",
    "\n",
    "1. **Addition**\n",
    "2. **Subtraction**\n",
    "3. **Multiplication**\n",
    "4. **Division**\n",
    "5. **Exponentiation**\n"
   ]
  },
  {
   "cell_type": "code",
   "execution_count": 2,
   "id": "e54f169b-3f6f-4d68-9a49-24c2a3aae6a3",
   "metadata": {
    "tags": []
   },
   "outputs": [
    {
     "data": {
      "text/plain": [
       "17"
      ]
     },
     "execution_count": 2,
     "metadata": {},
     "output_type": "execute_result"
    }
   ],
   "source": [
    "(3*4)+5"
   ]
  },
  {
   "cell_type": "code",
   "execution_count": 3,
   "id": "c19c6ee8-2d95-46e8-92dd-77f207a1502a",
   "metadata": {
    "tags": []
   },
   "outputs": [
    {
     "name": "stdout",
     "output_type": "stream",
     "text": [
      "200 minutes is equal to 3.3333333333333335 hours.\n"
     ]
    }
   ],
   "source": [
    "# This will convert 200 minutes to hours by dividing by 60\n",
    "minutes = 200\n",
    "hours = minutes / 60\n",
    "print(f\"{minutes} minutes is equal to {hours} hours.\")\n"
   ]
  },
  {
   "cell_type": "markdown",
   "id": "b87206d8-8d6f-4b2a-aa04-0fbae76462ac",
   "metadata": {},
   "source": [
    "## Author\n",
    "\n",
    "Khyati Shah\n"
   ]
  },
  {
   "cell_type": "code",
   "execution_count": null,
   "id": "f07d9827-834d-427e-98c4-52d068cebf69",
   "metadata": {},
   "outputs": [],
   "source": []
  }
 ],
 "metadata": {
  "kernelspec": {
   "display_name": "Python",
   "language": "python",
   "name": "conda-env-python-py"
  },
  "language_info": {
   "codemirror_mode": {
    "name": "ipython",
    "version": 3
   },
   "file_extension": ".py",
   "mimetype": "text/x-python",
   "name": "python",
   "nbconvert_exporter": "python",
   "pygments_lexer": "ipython3",
   "version": "3.7.12"
  }
 },
 "nbformat": 4,
 "nbformat_minor": 5
}
